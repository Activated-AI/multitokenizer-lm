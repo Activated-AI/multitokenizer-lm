{
 "cells": [
  {
   "cell_type": "code",
   "execution_count": 1,
   "metadata": {},
   "outputs": [],
   "source": [
    "import torch\n",
    "from torch.utils.data import Dataset, DataLoader\n",
    "import matplotlib.pyplot as plt\n",
    "import tokenizers\n",
    "from multi_tokenizer import MultiTokenizer, partition_list_by_lang\n",
    "from gpt import GPT, GPTConfig\n",
    "from tqdm import tqdm\n",
    "import os\n",
    "import math\n",
    "\n",
    "assert torch.cuda.is_available()\n",
    "#torch.manual_seed(1337)\n",
    "#if torch.cuda.is_available():\n",
    "    #torch.cuda.manual_seed(1337)\n",
    "\n",
    "device= 'cuda' if torch.cuda.is_available() else 'cpu'\n",
    "assert device == 'cuda', \"USE A GPU\"\n",
    "torch.set_default_device(device)"
   ]
  },
  {
   "cell_type": "code",
   "execution_count": 2,
   "metadata": {},
   "outputs": [
    {
     "data": {
      "text/plain": [
       "[(1, [323, 323]), (0, [3232, 2])]"
      ]
     },
     "execution_count": 2,
     "metadata": {},
     "output_type": "execute_result"
    }
   ],
   "source": [
    "list(partition_list_by_lang([0,1,323,323,1,0,3232,2]))"
   ]
  },
  {
   "cell_type": "code",
   "execution_count": 21,
   "metadata": {},
   "outputs": [],
   "source": [
    "# Settings\n",
    "run = \"shared/8k\" # multi_8k\n",
    "run = \"multi_8k\""
   ]
  },
  {
   "cell_type": "markdown",
   "metadata": {},
   "source": [
    "# Data Loading"
   ]
  },
  {
   "cell_type": "markdown",
   "metadata": {},
   "source": [
    "## Load Tokenizers"
   ]
  },
  {
   "cell_type": "code",
   "execution_count": 22,
   "metadata": {},
   "outputs": [],
   "source": [
    "\n",
    "EXPT_NAME = 'expt_1'\n",
    "\n",
    "shared_tokenizer_small_path = f'./{EXPT_NAME}/shared/8k/tokenizer.json'\n",
    "multi_tokenizer_english = f'./{EXPT_NAME}/multi_8k/english_tokenizer.json'\n",
    "multi_tokenizer_spanish = f'./{EXPT_NAME}/multi_8k/spanish_tokenizer.json'\n",
    "\n",
    "shared_tokenizer_small = tokenizers.Tokenizer.from_file(shared_tokenizer_small_path)\n",
    "multi_tokenizer_english = tokenizers.Tokenizer.from_file(multi_tokenizer_english)\n",
    "multi_tokenizer_spanish = tokenizers.Tokenizer.from_file(multi_tokenizer_spanish)\n",
    "\n",
    "multi_tokenizer = MultiTokenizer([multi_tokenizer_english, multi_tokenizer_spanish])"
   ]
  },
  {
   "cell_type": "code",
   "execution_count": 23,
   "metadata": {},
   "outputs": [
    {
     "data": {
      "text/plain": [
       "[2127, 17, 409, 689, 281, 911, 6015]"
      ]
     },
     "execution_count": 23,
     "metadata": {},
     "output_type": "execute_result"
    }
   ],
   "source": [
    "encoded = multi_tokenizer.encode(\"[BEGIN_EN]Hello, I like to[BEGIN_ES] comer arroz\")\n",
    "decoded = multi_tokenizer.decode(encoded)\n",
    "decoded\n",
    "\n",
    "shared_tokenizer_small.encode(\"Hello, I like to comer arroz\").ids\n"
   ]
  },
  {
   "cell_type": "code",
   "execution_count": 24,
   "metadata": {},
   "outputs": [],
   "source": [
    "if run == \"multi_8k\":\n",
    "    tokenizer = multi_tokenizer\n",
    "    vocab_size = 8192\n",
    "elif run == \"shared/8k\":\n",
    "    tokenizer = shared_tokenizer_small\n",
    "    vocab_size = 8192\n",
    "else:\n",
    "    raise ValueError(f\"Unknown run: {run}\")"
   ]
  },
  {
   "cell_type": "code",
   "execution_count": 25,
   "metadata": {},
   "outputs": [],
   "source": [
    "config = GPTConfig(\n",
    "    block_size = 256,\n",
    "    n_layer = 8,\n",
    "    n_embd=256,\n",
    "    n_head=8,\n",
    "    use_multitokenizer=True,\n",
    "    vocab_size = vocab_size\n",
    ")\n"
   ]
  },
  {
   "cell_type": "markdown",
   "metadata": {},
   "source": [
    "## Load Dataset"
   ]
  },
  {
   "cell_type": "code",
   "execution_count": 26,
   "metadata": {},
   "outputs": [],
   "source": [
    "if run == \"multi_8k\":\n",
    "    train = torch.load(f'./{EXPT_NAME}/multi_8k/train.pt')\n",
    "    english_test = torch.load(f'./{EXPT_NAME}/multi_8k/english_test.pt')\n",
    "    spanish_test = torch.load(f'./{EXPT_NAME}/multi_8k/spanish_test.pt')\n",
    "    translation_test = torch.load(f'./{EXPT_NAME}/multi_8k/translation_test.pt')\n",
    "elif run == \"shared/8k\":\n",
    "    tokenizer = shared_tokenizer_small\n",
    "    train = torch.load(f'./{EXPT_NAME}/shared/8k/train.pt')\n",
    "    english_test = torch.load(f'./{EXPT_NAME}/shared/8k/english_test.pt')\n",
    "    spanish_test = torch.load(f'./{EXPT_NAME}/shared/8k/spanish_test.pt')\n",
    "    translation_test = torch.load(f'./{EXPT_NAME}/shared/8k/translation_test.pt')\n",
    "\n",
    "# shuffle train\n",
    "train = train[torch.randperm(train.size(0))]"
   ]
  },
  {
   "cell_type": "code",
   "execution_count": 29,
   "metadata": {},
   "outputs": [
    {
     "data": {
      "text/plain": [
       "'[BEGIN_ES]. ¡Los dos novios querían jugar con el perro!\\n\\nEl perro no sabía qué hacer. El perro quería jugar con sus novios. Pero no podía jugar con ambos a la vez.\\n\\nEl perro se puso triste. El perro no sabía qué hacer. El perro estaba muy, muy triste.\\n\\nDe repente, el perro tuvo una idea. El perro jugó con un novio durante un rato. Luego jugó con el otro novio. ¡Todos estaban felices![END][BEGIN_ES][PROMPT_ES_STORY]Un niño pequeño estaba jugando en el jardín. Vio algo verde y largo en la hierba. \"¡Serpiente!\" gritó. La serpiente era rápida. Se arrastró hacia un árbol. El niño se asustó. Corrió a decirle a su mamá.\\n\\nSu mamá fue al jardín. \"¡No hay serpiente!\" dijo. El niño miró. ¡La serpiente ya no estaba! El niño estaba triste. Luego, vio algo pequeño y amarillo. \"¡Pollito!\" gritó.\\n\\nEl pequeño pollito se movía rápido. Se metió debajo del árbol. El niño se rió. \"¡Serpiente!\" gritó de nuevo. El pollito salió corriendo. ¡El niño se rió mucho! \\n\\nSu mamá se rió también. \"¡No es una serpiente, es un pollito!\" dijo. El niño seguía mirando el árbol. ¡El pollito estaba allí! El niño estaba feliz. El pollito era su nuevo amigo. \\n\\nEl niño y el pollito jugaron en el jardín. El niño estaba muy feliz. No tenía miedo. Estaba feliz de tener un amigo nuevo. El pollito era su nuevo amigo. ¡El niño estaba feliz![END][BEGIN_ES][PROMPT_ES_STORY]El sol salió. ¡Qué día! Un oso se levantó. El oso tenía un cuello grande y peludo. \\n\\nEl oso vio un panal de miel. La miel era dulce y amarilla. ¡El oso quería miel! Pero las abejas estaban ahí. ¡Zzz! ¡Zzz! \\n\\nEl oso dijo: “¡Por favor, abejas, déjenme comer miel!”. Las abejas dijeron: “¡No! ¡No! ¡Esta miel es nuestra!”. El oso se puso triste. \\n\\nEl oso fue a la casa. El oso encontró un montón de bayas. ¡Las bayas eran rojas y jugosas! ¡El oso se comió las bayas!  ¡Y el oso se sintió feliz! Las bayas eran un merecido premio.[END][BEGIN_ES][PROMPT_ES_STORY]Un día, un niño pequeño llamado Sam vio un pájaro. El pájaro era grande y tenía alas claras. Sam dijo: \"¡Hola, pájaro!\". El pájaro se fue volando. Sam sintió que'"
      ]
     },
     "execution_count": 29,
     "metadata": {},
     "output_type": "execute_result"
    }
   ],
   "source": [
    "tokenizer.decode(train[0].tolist())"
   ]
  },
  {
   "cell_type": "code",
   "execution_count": 30,
   "metadata": {},
   "outputs": [],
   "source": [
    "def load_tokens(filename):    \n",
    "    return torch.load(filename).to(dtype=torch.long)\n",
    "\n",
    "class DataLoaderLite:\n",
    "    def __init__(self, data_dir, B, T, split, shuffle):\n",
    "        self.B, self.T, self.shuffle = B, T, shuffle                \n",
    "        \n",
    "        shards = os.listdir(data_dir)\n",
    "        shards = [s for s in shards if split in s]\n",
    "        shards = sorted(shards)\n",
    "        shards = [os.path.join(data_dir, s) for s in shards]\n",
    "        self.shards = shards\n",
    "        assert len(shards) > 0, f\"no shards found for split {split}\"\n",
    "    \n",
    "        print(f\"found {len(shards)} shards for split {split}\")\n",
    "        \n",
    "        self.current_shard, self.current_position = -1, 0\n",
    "        self.reset()\n",
    "\n",
    "    def reset(self):\n",
    "        self.current_shard, self.current_position = (self.current_shard + 1) % len(self.shards), 0\n",
    "        self.tokens = load_tokens(self.shards[self.current_shard])\n",
    "        if self.shuffle:\n",
    "            assert False, 'not implemented'\n",
    "            start = time.time()\n",
    "            self.shuffle_tokens()\n",
    "            print(f\"shuffled {self.tokens.shape[0]} tokens in {time.time() - start:.1f}s\")\n",
    "\n",
    "    def next_batch(self):\n",
    "        B, T = self.B, self.T\n",
    "        buf = self.tokens[self.current_position : self.current_position+B*T+1]\n",
    "        x = (buf[:-1]).view(B, T) # inputs\n",
    "        y = (buf[1:]).view(B, T) # targets\n",
    "        # advance the position in the tensor\n",
    "        self.current_position += B * T \n",
    "        # if loading the next batch would be out of bounds, advance to next shard\n",
    "        if self.current_position + (B * T + 1) > len(self.tokens):\n",
    "            self.reset()\n",
    "        return x, y"
   ]
  },
  {
   "cell_type": "markdown",
   "metadata": {},
   "source": [
    "# Train"
   ]
  },
  {
   "cell_type": "code",
   "execution_count": 31,
   "metadata": {},
   "outputs": [
    {
     "name": "stdout",
     "output_type": "stream",
     "text": [
      "num decayed parameter tensors: 34, with 6,356,992 parameters\n",
      "num non-decayed parameter tensors: 66, with 23,040 parameters\n",
      "using fused AdamW: True\n"
     ]
    },
    {
     "name": "stderr",
     "output_type": "stream",
     "text": [
      "  0%|          | 0/12760 [00:00<?, ?it/s]"
     ]
    },
    {
     "name": "stderr",
     "output_type": "stream",
     "text": [
      "  0%|          | 3/12760 [00:00<09:25, 22.56it/s]"
     ]
    },
    {
     "name": "stdout",
     "output_type": "stream",
     "text": [
      "step: 0, loss: 10.382516860961914\n"
     ]
    },
    {
     "name": "stderr",
     "output_type": "stream",
     "text": [
      "  1%|          | 105/12760 [00:04<09:21, 22.55it/s]"
     ]
    },
    {
     "name": "stdout",
     "output_type": "stream",
     "text": [
      "step: 100, loss: 3.169614315032959\n"
     ]
    },
    {
     "name": "stderr",
     "output_type": "stream",
     "text": [
      "  2%|▏         | 204/12760 [00:09<09:17, 22.51it/s]"
     ]
    },
    {
     "name": "stdout",
     "output_type": "stream",
     "text": [
      "step: 200, loss: 2.6747334003448486\n"
     ]
    },
    {
     "name": "stderr",
     "output_type": "stream",
     "text": [
      "  2%|▏         | 303/12760 [00:13<09:14, 22.48it/s]"
     ]
    },
    {
     "name": "stdout",
     "output_type": "stream",
     "text": [
      "step: 300, loss: 2.557680130004883\n"
     ]
    },
    {
     "name": "stderr",
     "output_type": "stream",
     "text": [
      "  3%|▎         | 405/12760 [00:17<09:10, 22.45it/s]"
     ]
    },
    {
     "name": "stdout",
     "output_type": "stream",
     "text": [
      "step: 400, loss: 2.34751296043396\n"
     ]
    },
    {
     "name": "stderr",
     "output_type": "stream",
     "text": [
      "  4%|▍         | 504/12760 [00:22<09:05, 22.48it/s]"
     ]
    },
    {
     "name": "stdout",
     "output_type": "stream",
     "text": [
      "step: 500, loss: 2.305171489715576\n"
     ]
    },
    {
     "name": "stderr",
     "output_type": "stream",
     "text": [
      "  5%|▍         | 603/12760 [00:26<09:01, 22.46it/s]"
     ]
    },
    {
     "name": "stdout",
     "output_type": "stream",
     "text": [
      "step: 600, loss: 2.1953837871551514\n"
     ]
    },
    {
     "name": "stderr",
     "output_type": "stream",
     "text": [
      "  6%|▌         | 705/12760 [00:31<08:58, 22.38it/s]"
     ]
    },
    {
     "name": "stdout",
     "output_type": "stream",
     "text": [
      "step: 700, loss: 2.1846060752868652\n"
     ]
    },
    {
     "name": "stderr",
     "output_type": "stream",
     "text": [
      "  6%|▋         | 804/12760 [00:35<08:51, 22.50it/s]"
     ]
    },
    {
     "name": "stdout",
     "output_type": "stream",
     "text": [
      "step: 800, loss: 2.0937535762786865\n"
     ]
    },
    {
     "name": "stderr",
     "output_type": "stream",
     "text": [
      "  7%|▋         | 903/12760 [00:40<08:47, 22.48it/s]"
     ]
    },
    {
     "name": "stdout",
     "output_type": "stream",
     "text": [
      "step: 900, loss: 2.0739471912384033\n"
     ]
    },
    {
     "name": "stderr",
     "output_type": "stream",
     "text": [
      "  8%|▊         | 1005/12760 [00:44<08:43, 22.46it/s]"
     ]
    },
    {
     "name": "stdout",
     "output_type": "stream",
     "text": [
      "step: 1000, loss: 2.0186572074890137\n"
     ]
    },
    {
     "name": "stderr",
     "output_type": "stream",
     "text": [
      "  9%|▊         | 1104/12760 [00:49<08:38, 22.47it/s]"
     ]
    },
    {
     "name": "stdout",
     "output_type": "stream",
     "text": [
      "step: 1100, loss: 2.044660806655884\n"
     ]
    },
    {
     "name": "stderr",
     "output_type": "stream",
     "text": [
      "  9%|▉         | 1203/12760 [00:53<08:34, 22.48it/s]"
     ]
    },
    {
     "name": "stdout",
     "output_type": "stream",
     "text": [
      "step: 1200, loss: 1.9710441827774048\n"
     ]
    },
    {
     "name": "stderr",
     "output_type": "stream",
     "text": [
      " 10%|█         | 1305/12760 [00:58<08:30, 22.45it/s]"
     ]
    },
    {
     "name": "stdout",
     "output_type": "stream",
     "text": [
      "step: 1300, loss: 2.02921462059021\n"
     ]
    },
    {
     "name": "stderr",
     "output_type": "stream",
     "text": [
      " 11%|█         | 1404/12760 [01:02<08:25, 22.48it/s]"
     ]
    },
    {
     "name": "stdout",
     "output_type": "stream",
     "text": [
      "step: 1400, loss: 1.9879050254821777\n"
     ]
    },
    {
     "name": "stderr",
     "output_type": "stream",
     "text": [
      " 12%|█▏        | 1503/12760 [01:06<08:26, 22.24it/s]"
     ]
    },
    {
     "name": "stdout",
     "output_type": "stream",
     "text": [
      "step: 1500, loss: 1.929155707359314\n"
     ]
    },
    {
     "name": "stderr",
     "output_type": "stream",
     "text": [
      " 13%|█▎        | 1605/12760 [01:11<08:21, 22.23it/s]"
     ]
    },
    {
     "name": "stdout",
     "output_type": "stream",
     "text": [
      "step: 1600, loss: 1.9586845636367798\n"
     ]
    },
    {
     "name": "stderr",
     "output_type": "stream",
     "text": [
      " 13%|█▎        | 1704/12760 [01:15<08:16, 22.26it/s]"
     ]
    },
    {
     "name": "stdout",
     "output_type": "stream",
     "text": [
      "step: 1700, loss: 1.9999128580093384\n"
     ]
    },
    {
     "name": "stderr",
     "output_type": "stream",
     "text": [
      " 14%|█▍        | 1803/12760 [01:20<08:10, 22.36it/s]"
     ]
    },
    {
     "name": "stdout",
     "output_type": "stream",
     "text": [
      "step: 1800, loss: 1.913053035736084\n"
     ]
    },
    {
     "name": "stderr",
     "output_type": "stream",
     "text": [
      " 15%|█▍        | 1905/12760 [01:24<08:03, 22.45it/s]"
     ]
    },
    {
     "name": "stdout",
     "output_type": "stream",
     "text": [
      "step: 1900, loss: 1.9616193771362305\n"
     ]
    },
    {
     "name": "stderr",
     "output_type": "stream",
     "text": [
      " 16%|█▌        | 2004/12760 [01:29<07:58, 22.47it/s]"
     ]
    },
    {
     "name": "stdout",
     "output_type": "stream",
     "text": [
      "step: 2000, loss: 2.0052990913391113\n"
     ]
    },
    {
     "name": "stderr",
     "output_type": "stream",
     "text": [
      " 16%|█▋        | 2103/12760 [01:33<07:54, 22.45it/s]"
     ]
    },
    {
     "name": "stdout",
     "output_type": "stream",
     "text": [
      "step: 2100, loss: 1.9287110567092896\n"
     ]
    },
    {
     "name": "stderr",
     "output_type": "stream",
     "text": [
      " 17%|█▋        | 2205/12760 [01:38<07:49, 22.48it/s]"
     ]
    },
    {
     "name": "stdout",
     "output_type": "stream",
     "text": [
      "step: 2200, loss: 1.8738030195236206\n"
     ]
    },
    {
     "name": "stderr",
     "output_type": "stream",
     "text": [
      " 18%|█▊        | 2304/12760 [01:42<07:46, 22.41it/s]"
     ]
    },
    {
     "name": "stdout",
     "output_type": "stream",
     "text": [
      "step: 2300, loss: 1.9159350395202637\n"
     ]
    },
    {
     "name": "stderr",
     "output_type": "stream",
     "text": [
      " 19%|█▉        | 2403/12760 [01:47<07:41, 22.45it/s]"
     ]
    },
    {
     "name": "stdout",
     "output_type": "stream",
     "text": [
      "step: 2400, loss: 1.9148452281951904\n"
     ]
    },
    {
     "name": "stderr",
     "output_type": "stream",
     "text": [
      " 20%|█▉        | 2505/12760 [01:51<07:26, 22.97it/s]"
     ]
    },
    {
     "name": "stdout",
     "output_type": "stream",
     "text": [
      "step: 2500, loss: 1.9300572872161865\n"
     ]
    },
    {
     "name": "stderr",
     "output_type": "stream",
     "text": [
      " 20%|██        | 2604/12760 [01:55<07:31, 22.49it/s]"
     ]
    },
    {
     "name": "stdout",
     "output_type": "stream",
     "text": [
      "step: 2600, loss: 1.8535243272781372\n"
     ]
    },
    {
     "name": "stderr",
     "output_type": "stream",
     "text": [
      " 21%|██        | 2703/12760 [02:00<07:21, 22.79it/s]"
     ]
    },
    {
     "name": "stdout",
     "output_type": "stream",
     "text": [
      "step: 2700, loss: 1.8744609355926514\n"
     ]
    },
    {
     "name": "stderr",
     "output_type": "stream",
     "text": [
      " 22%|██▏       | 2805/12760 [02:04<07:23, 22.46it/s]"
     ]
    },
    {
     "name": "stdout",
     "output_type": "stream",
     "text": [
      "step: 2800, loss: 1.87278413772583\n"
     ]
    },
    {
     "name": "stderr",
     "output_type": "stream",
     "text": [
      " 23%|██▎       | 2904/12760 [02:09<07:20, 22.40it/s]"
     ]
    },
    {
     "name": "stdout",
     "output_type": "stream",
     "text": [
      "step: 2900, loss: 1.8617777824401855\n"
     ]
    },
    {
     "name": "stderr",
     "output_type": "stream",
     "text": [
      " 24%|██▎       | 3003/12760 [02:13<07:14, 22.45it/s]"
     ]
    },
    {
     "name": "stdout",
     "output_type": "stream",
     "text": [
      "step: 3000, loss: 1.8946609497070312\n"
     ]
    },
    {
     "name": "stderr",
     "output_type": "stream",
     "text": [
      " 24%|██▍       | 3105/12760 [02:18<07:09, 22.50it/s]"
     ]
    },
    {
     "name": "stdout",
     "output_type": "stream",
     "text": [
      "step: 3100, loss: 1.8772170543670654\n"
     ]
    },
    {
     "name": "stderr",
     "output_type": "stream",
     "text": [
      " 25%|██▌       | 3204/12760 [02:22<07:05, 22.45it/s]"
     ]
    },
    {
     "name": "stdout",
     "output_type": "stream",
     "text": [
      "step: 3200, loss: 1.812859296798706\n"
     ]
    },
    {
     "name": "stderr",
     "output_type": "stream",
     "text": [
      " 26%|██▌       | 3303/12760 [02:27<07:01, 22.46it/s]"
     ]
    },
    {
     "name": "stdout",
     "output_type": "stream",
     "text": [
      "step: 3300, loss: 1.8554294109344482\n"
     ]
    },
    {
     "name": "stderr",
     "output_type": "stream",
     "text": [
      " 27%|██▋       | 3405/12760 [02:31<06:59, 22.32it/s]"
     ]
    },
    {
     "name": "stdout",
     "output_type": "stream",
     "text": [
      "step: 3400, loss: 1.848440170288086\n"
     ]
    },
    {
     "name": "stderr",
     "output_type": "stream",
     "text": [
      " 27%|██▋       | 3504/12760 [02:36<06:51, 22.47it/s]"
     ]
    },
    {
     "name": "stdout",
     "output_type": "stream",
     "text": [
      "step: 3500, loss: 1.91140878200531\n"
     ]
    },
    {
     "name": "stderr",
     "output_type": "stream",
     "text": [
      " 28%|██▊       | 3603/12760 [02:40<06:37, 23.04it/s]"
     ]
    },
    {
     "name": "stdout",
     "output_type": "stream",
     "text": [
      "step: 3600, loss: 1.8313504457473755\n"
     ]
    },
    {
     "name": "stderr",
     "output_type": "stream",
     "text": [
      " 29%|██▉       | 3705/12760 [02:44<06:31, 23.14it/s]"
     ]
    },
    {
     "name": "stdout",
     "output_type": "stream",
     "text": [
      "step: 3700, loss: 1.8310989141464233\n"
     ]
    },
    {
     "name": "stderr",
     "output_type": "stream",
     "text": [
      " 30%|██▉       | 3804/12760 [02:49<06:33, 22.76it/s]"
     ]
    },
    {
     "name": "stdout",
     "output_type": "stream",
     "text": [
      "step: 3800, loss: 1.8323014974594116\n"
     ]
    },
    {
     "name": "stderr",
     "output_type": "stream",
     "text": [
      " 31%|███       | 3903/12760 [02:53<06:32, 22.57it/s]"
     ]
    },
    {
     "name": "stdout",
     "output_type": "stream",
     "text": [
      "step: 3900, loss: 1.8190158605575562\n"
     ]
    },
    {
     "name": "stderr",
     "output_type": "stream",
     "text": [
      " 31%|███▏      | 4005/12760 [02:58<06:22, 22.86it/s]"
     ]
    },
    {
     "name": "stdout",
     "output_type": "stream",
     "text": [
      "step: 4000, loss: 1.797122597694397\n"
     ]
    },
    {
     "name": "stderr",
     "output_type": "stream",
     "text": [
      " 32%|███▏      | 4104/12760 [03:02<06:16, 23.00it/s]"
     ]
    },
    {
     "name": "stdout",
     "output_type": "stream",
     "text": [
      "step: 4100, loss: 1.8303736448287964\n"
     ]
    },
    {
     "name": "stderr",
     "output_type": "stream",
     "text": [
      " 33%|███▎      | 4203/12760 [03:06<06:23, 22.33it/s]"
     ]
    },
    {
     "name": "stdout",
     "output_type": "stream",
     "text": [
      "step: 4200, loss: 1.7949304580688477\n"
     ]
    },
    {
     "name": "stderr",
     "output_type": "stream",
     "text": [
      " 34%|███▎      | 4305/12760 [03:11<06:16, 22.46it/s]"
     ]
    },
    {
     "name": "stdout",
     "output_type": "stream",
     "text": [
      "step: 4300, loss: 1.8708149194717407\n"
     ]
    },
    {
     "name": "stderr",
     "output_type": "stream",
     "text": [
      " 35%|███▍      | 4404/12760 [03:15<06:13, 22.36it/s]"
     ]
    },
    {
     "name": "stdout",
     "output_type": "stream",
     "text": [
      "step: 4400, loss: 1.7947579622268677\n"
     ]
    },
    {
     "name": "stderr",
     "output_type": "stream",
     "text": [
      " 35%|███▌      | 4503/12760 [03:20<06:10, 22.28it/s]"
     ]
    },
    {
     "name": "stdout",
     "output_type": "stream",
     "text": [
      "step: 4500, loss: 1.8326525688171387\n"
     ]
    },
    {
     "name": "stderr",
     "output_type": "stream",
     "text": [
      " 36%|███▌      | 4605/12760 [03:24<06:06, 22.26it/s]"
     ]
    },
    {
     "name": "stdout",
     "output_type": "stream",
     "text": [
      "step: 4600, loss: 1.8497891426086426\n"
     ]
    },
    {
     "name": "stderr",
     "output_type": "stream",
     "text": [
      " 37%|███▋      | 4704/12760 [03:29<06:01, 22.28it/s]"
     ]
    },
    {
     "name": "stdout",
     "output_type": "stream",
     "text": [
      "step: 4700, loss: 1.790736198425293\n"
     ]
    },
    {
     "name": "stderr",
     "output_type": "stream",
     "text": [
      " 38%|███▊      | 4803/12760 [03:33<05:56, 22.34it/s]"
     ]
    },
    {
     "name": "stdout",
     "output_type": "stream",
     "text": [
      "step: 4800, loss: 1.8082343339920044\n"
     ]
    },
    {
     "name": "stderr",
     "output_type": "stream",
     "text": [
      " 38%|███▊      | 4905/12760 [03:38<05:49, 22.49it/s]"
     ]
    },
    {
     "name": "stdout",
     "output_type": "stream",
     "text": [
      "step: 4900, loss: 1.8204208612442017\n"
     ]
    },
    {
     "name": "stderr",
     "output_type": "stream",
     "text": [
      " 39%|███▉      | 5004/12760 [03:42<05:44, 22.48it/s]"
     ]
    },
    {
     "name": "stdout",
     "output_type": "stream",
     "text": [
      "step: 5000, loss: 1.8061001300811768\n"
     ]
    },
    {
     "name": "stderr",
     "output_type": "stream",
     "text": [
      " 40%|███▉      | 5103/12760 [03:46<05:40, 22.47it/s]"
     ]
    },
    {
     "name": "stdout",
     "output_type": "stream",
     "text": [
      "step: 5100, loss: 1.811509370803833\n"
     ]
    },
    {
     "name": "stderr",
     "output_type": "stream",
     "text": [
      " 41%|████      | 5205/12760 [03:51<05:35, 22.49it/s]"
     ]
    },
    {
     "name": "stdout",
     "output_type": "stream",
     "text": [
      "step: 5200, loss: 1.8021821975708008\n"
     ]
    },
    {
     "name": "stderr",
     "output_type": "stream",
     "text": [
      " 42%|████▏     | 5304/12760 [03:55<05:31, 22.47it/s]"
     ]
    },
    {
     "name": "stdout",
     "output_type": "stream",
     "text": [
      "step: 5300, loss: 1.7978709936141968\n"
     ]
    },
    {
     "name": "stderr",
     "output_type": "stream",
     "text": [
      " 42%|████▏     | 5403/12760 [04:00<05:28, 22.43it/s]"
     ]
    },
    {
     "name": "stdout",
     "output_type": "stream",
     "text": [
      "step: 5400, loss: 1.817740559577942\n"
     ]
    },
    {
     "name": "stderr",
     "output_type": "stream",
     "text": [
      " 43%|████▎     | 5505/12760 [04:04<05:22, 22.51it/s]"
     ]
    },
    {
     "name": "stdout",
     "output_type": "stream",
     "text": [
      "step: 5500, loss: 1.8240822553634644\n"
     ]
    },
    {
     "name": "stderr",
     "output_type": "stream",
     "text": [
      " 44%|████▍     | 5604/12760 [04:09<05:19, 22.42it/s]"
     ]
    },
    {
     "name": "stdout",
     "output_type": "stream",
     "text": [
      "step: 5600, loss: 1.8071706295013428\n"
     ]
    },
    {
     "name": "stderr",
     "output_type": "stream",
     "text": [
      " 45%|████▍     | 5703/12760 [04:13<05:13, 22.48it/s]"
     ]
    },
    {
     "name": "stdout",
     "output_type": "stream",
     "text": [
      "step: 5700, loss: 1.770641565322876\n"
     ]
    },
    {
     "name": "stderr",
     "output_type": "stream",
     "text": [
      " 45%|████▌     | 5805/12760 [04:18<05:09, 22.49it/s]"
     ]
    },
    {
     "name": "stdout",
     "output_type": "stream",
     "text": [
      "step: 5800, loss: 1.7620537281036377\n"
     ]
    },
    {
     "name": "stderr",
     "output_type": "stream",
     "text": [
      " 46%|████▋     | 5904/12760 [04:22<05:04, 22.49it/s]"
     ]
    },
    {
     "name": "stdout",
     "output_type": "stream",
     "text": [
      "step: 5900, loss: 1.8380358219146729\n"
     ]
    },
    {
     "name": "stderr",
     "output_type": "stream",
     "text": [
      " 47%|████▋     | 6003/12760 [04:26<05:00, 22.48it/s]"
     ]
    },
    {
     "name": "stdout",
     "output_type": "stream",
     "text": [
      "step: 6000, loss: 1.7759628295898438\n"
     ]
    },
    {
     "name": "stderr",
     "output_type": "stream",
     "text": [
      " 48%|████▊     | 6105/12760 [04:31<04:55, 22.52it/s]"
     ]
    },
    {
     "name": "stdout",
     "output_type": "stream",
     "text": [
      "step: 6100, loss: 1.7766577005386353\n"
     ]
    },
    {
     "name": "stderr",
     "output_type": "stream",
     "text": [
      " 49%|████▊     | 6204/12760 [04:35<04:51, 22.48it/s]"
     ]
    },
    {
     "name": "stdout",
     "output_type": "stream",
     "text": [
      "step: 6200, loss: 1.737634301185608\n"
     ]
    },
    {
     "name": "stderr",
     "output_type": "stream",
     "text": [
      " 49%|████▉     | 6303/12760 [04:40<04:47, 22.49it/s]"
     ]
    },
    {
     "name": "stdout",
     "output_type": "stream",
     "text": [
      "step: 6300, loss: 1.787656545639038\n"
     ]
    },
    {
     "name": "stderr",
     "output_type": "stream",
     "text": [
      " 50%|█████     | 6405/12760 [04:44<04:42, 22.49it/s]"
     ]
    },
    {
     "name": "stdout",
     "output_type": "stream",
     "text": [
      "step: 6400, loss: 1.723616361618042\n"
     ]
    },
    {
     "name": "stderr",
     "output_type": "stream",
     "text": [
      " 51%|█████     | 6504/12760 [04:49<04:37, 22.51it/s]"
     ]
    },
    {
     "name": "stdout",
     "output_type": "stream",
     "text": [
      "step: 6500, loss: 1.8204282522201538\n"
     ]
    },
    {
     "name": "stderr",
     "output_type": "stream",
     "text": [
      " 52%|█████▏    | 6603/12760 [04:53<04:33, 22.48it/s]"
     ]
    },
    {
     "name": "stdout",
     "output_type": "stream",
     "text": [
      "step: 6600, loss: 1.7556533813476562\n"
     ]
    },
    {
     "name": "stderr",
     "output_type": "stream",
     "text": [
      " 53%|█████▎    | 6705/12760 [04:58<04:29, 22.50it/s]"
     ]
    },
    {
     "name": "stdout",
     "output_type": "stream",
     "text": [
      "step: 6700, loss: 1.7448161840438843\n"
     ]
    },
    {
     "name": "stderr",
     "output_type": "stream",
     "text": [
      " 53%|█████▎    | 6804/12760 [05:02<04:24, 22.50it/s]"
     ]
    },
    {
     "name": "stdout",
     "output_type": "stream",
     "text": [
      "step: 6800, loss: 1.8162639141082764\n"
     ]
    },
    {
     "name": "stderr",
     "output_type": "stream",
     "text": [
      " 54%|█████▍    | 6903/12760 [05:06<04:20, 22.49it/s]"
     ]
    },
    {
     "name": "stdout",
     "output_type": "stream",
     "text": [
      "step: 6900, loss: 1.82279634475708\n"
     ]
    },
    {
     "name": "stderr",
     "output_type": "stream",
     "text": [
      " 55%|█████▍    | 7005/12760 [05:11<04:15, 22.49it/s]"
     ]
    },
    {
     "name": "stdout",
     "output_type": "stream",
     "text": [
      "step: 7000, loss: 1.8026946783065796\n"
     ]
    },
    {
     "name": "stderr",
     "output_type": "stream",
     "text": [
      " 56%|█████▌    | 7104/12760 [05:15<04:11, 22.48it/s]"
     ]
    },
    {
     "name": "stdout",
     "output_type": "stream",
     "text": [
      "step: 7100, loss: 1.7875865697860718\n"
     ]
    },
    {
     "name": "stderr",
     "output_type": "stream",
     "text": [
      " 56%|█████▋    | 7203/12760 [05:20<04:08, 22.38it/s]"
     ]
    },
    {
     "name": "stdout",
     "output_type": "stream",
     "text": [
      "step: 7200, loss: 1.803047776222229\n"
     ]
    },
    {
     "name": "stderr",
     "output_type": "stream",
     "text": [
      " 57%|█████▋    | 7305/12760 [05:24<04:02, 22.50it/s]"
     ]
    },
    {
     "name": "stdout",
     "output_type": "stream",
     "text": [
      "step: 7300, loss: 1.7834811210632324\n"
     ]
    },
    {
     "name": "stderr",
     "output_type": "stream",
     "text": [
      " 58%|█████▊    | 7404/12760 [05:29<03:57, 22.51it/s]"
     ]
    },
    {
     "name": "stdout",
     "output_type": "stream",
     "text": [
      "step: 7400, loss: 1.7949702739715576\n"
     ]
    },
    {
     "name": "stderr",
     "output_type": "stream",
     "text": [
      " 59%|█████▉    | 7503/12760 [05:33<03:53, 22.47it/s]"
     ]
    },
    {
     "name": "stdout",
     "output_type": "stream",
     "text": [
      "step: 7500, loss: 1.757644534111023\n"
     ]
    },
    {
     "name": "stderr",
     "output_type": "stream",
     "text": [
      " 60%|█████▉    | 7605/12760 [05:38<03:49, 22.46it/s]"
     ]
    },
    {
     "name": "stdout",
     "output_type": "stream",
     "text": [
      "step: 7600, loss: 1.7511390447616577\n"
     ]
    },
    {
     "name": "stderr",
     "output_type": "stream",
     "text": [
      " 60%|██████    | 7704/12760 [05:42<03:44, 22.50it/s]"
     ]
    },
    {
     "name": "stdout",
     "output_type": "stream",
     "text": [
      "step: 7700, loss: 1.8103666305541992\n"
     ]
    },
    {
     "name": "stderr",
     "output_type": "stream",
     "text": [
      " 61%|██████    | 7803/12760 [05:46<03:35, 22.97it/s]"
     ]
    },
    {
     "name": "stdout",
     "output_type": "stream",
     "text": [
      "step: 7800, loss: 1.7666041851043701\n"
     ]
    },
    {
     "name": "stderr",
     "output_type": "stream",
     "text": [
      " 62%|██████▏   | 7905/12760 [05:51<03:35, 22.52it/s]"
     ]
    },
    {
     "name": "stdout",
     "output_type": "stream",
     "text": [
      "step: 7900, loss: 1.783050537109375\n"
     ]
    },
    {
     "name": "stderr",
     "output_type": "stream",
     "text": [
      " 63%|██████▎   | 8004/12760 [05:55<03:31, 22.46it/s]"
     ]
    },
    {
     "name": "stdout",
     "output_type": "stream",
     "text": [
      "step: 8000, loss: 1.7265985012054443\n"
     ]
    },
    {
     "name": "stderr",
     "output_type": "stream",
     "text": [
      " 64%|██████▎   | 8103/12760 [06:00<03:27, 22.47it/s]"
     ]
    },
    {
     "name": "stdout",
     "output_type": "stream",
     "text": [
      "step: 8100, loss: 1.743269681930542\n"
     ]
    },
    {
     "name": "stderr",
     "output_type": "stream",
     "text": [
      " 64%|██████▍   | 8205/12760 [06:04<03:22, 22.49it/s]"
     ]
    },
    {
     "name": "stdout",
     "output_type": "stream",
     "text": [
      "step: 8200, loss: 1.814278244972229\n"
     ]
    },
    {
     "name": "stderr",
     "output_type": "stream",
     "text": [
      " 65%|██████▌   | 8304/12760 [06:09<03:18, 22.48it/s]"
     ]
    },
    {
     "name": "stdout",
     "output_type": "stream",
     "text": [
      "step: 8300, loss: 1.764228343963623\n"
     ]
    },
    {
     "name": "stderr",
     "output_type": "stream",
     "text": [
      " 66%|██████▌   | 8403/12760 [06:13<03:13, 22.50it/s]"
     ]
    },
    {
     "name": "stdout",
     "output_type": "stream",
     "text": [
      "step: 8400, loss: 1.7889931201934814\n"
     ]
    },
    {
     "name": "stderr",
     "output_type": "stream",
     "text": [
      " 67%|██████▋   | 8505/12760 [06:18<03:09, 22.45it/s]"
     ]
    },
    {
     "name": "stdout",
     "output_type": "stream",
     "text": [
      "step: 8500, loss: 1.766266107559204\n"
     ]
    },
    {
     "name": "stderr",
     "output_type": "stream",
     "text": [
      " 67%|██████▋   | 8604/12760 [06:22<03:04, 22.47it/s]"
     ]
    },
    {
     "name": "stdout",
     "output_type": "stream",
     "text": [
      "step: 8600, loss: 1.7856825590133667\n"
     ]
    },
    {
     "name": "stderr",
     "output_type": "stream",
     "text": [
      " 68%|██████▊   | 8703/12760 [06:26<03:00, 22.53it/s]"
     ]
    },
    {
     "name": "stdout",
     "output_type": "stream",
     "text": [
      "step: 8700, loss: 1.7396173477172852\n"
     ]
    },
    {
     "name": "stderr",
     "output_type": "stream",
     "text": [
      " 69%|██████▉   | 8805/12760 [06:31<02:56, 22.36it/s]"
     ]
    },
    {
     "name": "stdout",
     "output_type": "stream",
     "text": [
      "step: 8800, loss: 1.8033188581466675\n"
     ]
    },
    {
     "name": "stderr",
     "output_type": "stream",
     "text": [
      " 70%|██████▉   | 8904/12760 [06:35<02:53, 22.27it/s]"
     ]
    },
    {
     "name": "stdout",
     "output_type": "stream",
     "text": [
      "step: 8900, loss: 1.7866849899291992\n"
     ]
    },
    {
     "name": "stderr",
     "output_type": "stream",
     "text": [
      " 71%|███████   | 9003/12760 [06:40<02:47, 22.46it/s]"
     ]
    },
    {
     "name": "stdout",
     "output_type": "stream",
     "text": [
      "step: 9000, loss: 1.7306792736053467\n"
     ]
    },
    {
     "name": "stderr",
     "output_type": "stream",
     "text": [
      " 71%|███████▏  | 9105/12760 [06:45<02:50, 21.45it/s]"
     ]
    },
    {
     "name": "stdout",
     "output_type": "stream",
     "text": [
      "step: 9100, loss: 1.7259527444839478\n"
     ]
    },
    {
     "name": "stderr",
     "output_type": "stream",
     "text": [
      " 72%|███████▏  | 9204/12760 [06:49<02:39, 22.34it/s]"
     ]
    },
    {
     "name": "stdout",
     "output_type": "stream",
     "text": [
      "step: 9200, loss: 1.7401759624481201\n"
     ]
    },
    {
     "name": "stderr",
     "output_type": "stream",
     "text": [
      " 73%|███████▎  | 9303/12760 [06:54<02:33, 22.47it/s]"
     ]
    },
    {
     "name": "stdout",
     "output_type": "stream",
     "text": [
      "step: 9300, loss: 1.7385790348052979\n"
     ]
    },
    {
     "name": "stderr",
     "output_type": "stream",
     "text": [
      " 74%|███████▎  | 9405/12760 [06:58<02:29, 22.50it/s]"
     ]
    },
    {
     "name": "stdout",
     "output_type": "stream",
     "text": [
      "step: 9400, loss: 1.729856252670288\n"
     ]
    },
    {
     "name": "stderr",
     "output_type": "stream",
     "text": [
      " 74%|███████▍  | 9504/12760 [07:03<02:24, 22.47it/s]"
     ]
    },
    {
     "name": "stdout",
     "output_type": "stream",
     "text": [
      "step: 9500, loss: 1.7420759201049805\n"
     ]
    },
    {
     "name": "stderr",
     "output_type": "stream",
     "text": [
      " 75%|███████▌  | 9603/12760 [07:07<02:20, 22.47it/s]"
     ]
    },
    {
     "name": "stdout",
     "output_type": "stream",
     "text": [
      "step: 9600, loss: 1.7082765102386475\n"
     ]
    },
    {
     "name": "stderr",
     "output_type": "stream",
     "text": [
      " 76%|███████▌  | 9705/12760 [07:11<02:16, 22.46it/s]"
     ]
    },
    {
     "name": "stdout",
     "output_type": "stream",
     "text": [
      "step: 9700, loss: 1.754081130027771\n"
     ]
    },
    {
     "name": "stderr",
     "output_type": "stream",
     "text": [
      " 77%|███████▋  | 9804/12760 [07:16<02:11, 22.56it/s]"
     ]
    },
    {
     "name": "stdout",
     "output_type": "stream",
     "text": [
      "step: 9800, loss: 1.7449241876602173\n"
     ]
    },
    {
     "name": "stderr",
     "output_type": "stream",
     "text": [
      " 78%|███████▊  | 9903/12760 [07:20<02:06, 22.52it/s]"
     ]
    },
    {
     "name": "stdout",
     "output_type": "stream",
     "text": [
      "step: 9900, loss: 1.7367761135101318\n"
     ]
    },
    {
     "name": "stderr",
     "output_type": "stream",
     "text": [
      " 78%|███████▊  | 10005/12760 [07:25<02:02, 22.47it/s]"
     ]
    },
    {
     "name": "stdout",
     "output_type": "stream",
     "text": [
      "step: 10000, loss: 1.7421298027038574\n"
     ]
    },
    {
     "name": "stderr",
     "output_type": "stream",
     "text": [
      " 79%|███████▉  | 10104/12760 [07:29<01:58, 22.49it/s]"
     ]
    },
    {
     "name": "stdout",
     "output_type": "stream",
     "text": [
      "step: 10100, loss: 1.7671703100204468\n"
     ]
    },
    {
     "name": "stderr",
     "output_type": "stream",
     "text": [
      " 80%|███████▉  | 10203/12760 [07:34<01:53, 22.46it/s]"
     ]
    },
    {
     "name": "stdout",
     "output_type": "stream",
     "text": [
      "step: 10200, loss: 1.6856595277786255\n"
     ]
    },
    {
     "name": "stderr",
     "output_type": "stream",
     "text": [
      " 81%|████████  | 10305/12760 [07:38<01:49, 22.42it/s]"
     ]
    },
    {
     "name": "stdout",
     "output_type": "stream",
     "text": [
      "step: 10300, loss: 1.776463270187378\n"
     ]
    },
    {
     "name": "stderr",
     "output_type": "stream",
     "text": [
      " 82%|████████▏ | 10404/12760 [07:43<01:44, 22.50it/s]"
     ]
    },
    {
     "name": "stdout",
     "output_type": "stream",
     "text": [
      "step: 10400, loss: 1.8147400617599487\n"
     ]
    },
    {
     "name": "stderr",
     "output_type": "stream",
     "text": [
      " 82%|████████▏ | 10503/12760 [07:47<01:40, 22.49it/s]"
     ]
    },
    {
     "name": "stdout",
     "output_type": "stream",
     "text": [
      "step: 10500, loss: 1.7169241905212402\n"
     ]
    },
    {
     "name": "stderr",
     "output_type": "stream",
     "text": [
      " 83%|████████▎ | 10605/12760 [07:51<01:36, 22.40it/s]"
     ]
    },
    {
     "name": "stdout",
     "output_type": "stream",
     "text": [
      "step: 10600, loss: 1.7197169065475464\n"
     ]
    },
    {
     "name": "stderr",
     "output_type": "stream",
     "text": [
      " 84%|████████▍ | 10704/12760 [07:56<01:31, 22.46it/s]"
     ]
    },
    {
     "name": "stdout",
     "output_type": "stream",
     "text": [
      "step: 10700, loss: 1.7478634119033813\n"
     ]
    },
    {
     "name": "stderr",
     "output_type": "stream",
     "text": [
      " 85%|████████▍ | 10803/12760 [08:00<01:27, 22.46it/s]"
     ]
    },
    {
     "name": "stdout",
     "output_type": "stream",
     "text": [
      "step: 10800, loss: 1.7526520490646362\n"
     ]
    },
    {
     "name": "stderr",
     "output_type": "stream",
     "text": [
      " 85%|████████▌ | 10905/12760 [08:05<01:22, 22.47it/s]"
     ]
    },
    {
     "name": "stdout",
     "output_type": "stream",
     "text": [
      "step: 10900, loss: 1.8683745861053467\n"
     ]
    },
    {
     "name": "stderr",
     "output_type": "stream",
     "text": [
      " 86%|████████▌ | 11004/12760 [08:09<01:18, 22.37it/s]"
     ]
    },
    {
     "name": "stdout",
     "output_type": "stream",
     "text": [
      "step: 11000, loss: 1.7629541158676147\n"
     ]
    },
    {
     "name": "stderr",
     "output_type": "stream",
     "text": [
      " 87%|████████▋ | 11103/12760 [08:14<01:14, 22.31it/s]"
     ]
    },
    {
     "name": "stdout",
     "output_type": "stream",
     "text": [
      "step: 11100, loss: 1.7545894384384155\n"
     ]
    },
    {
     "name": "stderr",
     "output_type": "stream",
     "text": [
      " 88%|████████▊ | 11205/12760 [08:18<01:09, 22.46it/s]"
     ]
    },
    {
     "name": "stdout",
     "output_type": "stream",
     "text": [
      "step: 11200, loss: 1.7413052320480347\n"
     ]
    },
    {
     "name": "stderr",
     "output_type": "stream",
     "text": [
      " 89%|████████▊ | 11304/12760 [08:23<01:04, 22.49it/s]"
     ]
    },
    {
     "name": "stdout",
     "output_type": "stream",
     "text": [
      "step: 11300, loss: 1.7497577667236328\n"
     ]
    },
    {
     "name": "stderr",
     "output_type": "stream",
     "text": [
      " 89%|████████▉ | 11403/12760 [08:27<01:00, 22.43it/s]"
     ]
    },
    {
     "name": "stdout",
     "output_type": "stream",
     "text": [
      "step: 11400, loss: 1.7378063201904297\n"
     ]
    },
    {
     "name": "stderr",
     "output_type": "stream",
     "text": [
      " 90%|█████████ | 11505/12760 [08:32<00:55, 22.48it/s]"
     ]
    },
    {
     "name": "stdout",
     "output_type": "stream",
     "text": [
      "step: 11500, loss: 1.7347111701965332\n"
     ]
    },
    {
     "name": "stderr",
     "output_type": "stream",
     "text": [
      " 91%|█████████ | 11604/12760 [08:36<00:51, 22.45it/s]"
     ]
    },
    {
     "name": "stdout",
     "output_type": "stream",
     "text": [
      "step: 11600, loss: 1.7495036125183105\n"
     ]
    },
    {
     "name": "stderr",
     "output_type": "stream",
     "text": [
      " 92%|█████████▏| 11703/12760 [08:40<00:46, 22.49it/s]"
     ]
    },
    {
     "name": "stdout",
     "output_type": "stream",
     "text": [
      "step: 11700, loss: 1.7557374238967896\n"
     ]
    },
    {
     "name": "stderr",
     "output_type": "stream",
     "text": [
      " 93%|█████████▎| 11805/12760 [08:45<00:42, 22.45it/s]"
     ]
    },
    {
     "name": "stdout",
     "output_type": "stream",
     "text": [
      "step: 11800, loss: 1.7314285039901733\n"
     ]
    },
    {
     "name": "stderr",
     "output_type": "stream",
     "text": [
      " 93%|█████████▎| 11904/12760 [08:49<00:38, 22.48it/s]"
     ]
    },
    {
     "name": "stdout",
     "output_type": "stream",
     "text": [
      "step: 11900, loss: 1.7526450157165527\n"
     ]
    },
    {
     "name": "stderr",
     "output_type": "stream",
     "text": [
      " 94%|█████████▍| 12003/12760 [08:54<00:33, 22.42it/s]"
     ]
    },
    {
     "name": "stdout",
     "output_type": "stream",
     "text": [
      "step: 12000, loss: 1.717010259628296\n"
     ]
    },
    {
     "name": "stderr",
     "output_type": "stream",
     "text": [
      " 95%|█████████▍| 12105/12760 [08:58<00:29, 22.44it/s]"
     ]
    },
    {
     "name": "stdout",
     "output_type": "stream",
     "text": [
      "step: 12100, loss: 1.7595239877700806\n"
     ]
    },
    {
     "name": "stderr",
     "output_type": "stream",
     "text": [
      " 96%|█████████▌| 12204/12760 [09:03<00:24, 22.42it/s]"
     ]
    },
    {
     "name": "stdout",
     "output_type": "stream",
     "text": [
      "step: 12200, loss: 1.7270032167434692\n"
     ]
    },
    {
     "name": "stderr",
     "output_type": "stream",
     "text": [
      " 96%|█████████▋| 12303/12760 [09:07<00:20, 22.51it/s]"
     ]
    },
    {
     "name": "stdout",
     "output_type": "stream",
     "text": [
      "step: 12300, loss: 1.795576810836792\n"
     ]
    },
    {
     "name": "stderr",
     "output_type": "stream",
     "text": [
      " 97%|█████████▋| 12405/12760 [09:12<00:16, 22.00it/s]"
     ]
    },
    {
     "name": "stdout",
     "output_type": "stream",
     "text": [
      "step: 12400, loss: 1.7271603345870972\n"
     ]
    },
    {
     "name": "stderr",
     "output_type": "stream",
     "text": [
      " 98%|█████████▊| 12504/12760 [09:16<00:11, 22.22it/s]"
     ]
    },
    {
     "name": "stdout",
     "output_type": "stream",
     "text": [
      "step: 12500, loss: 1.7427892684936523\n"
     ]
    },
    {
     "name": "stderr",
     "output_type": "stream",
     "text": [
      " 99%|█████████▉| 12603/12760 [09:20<00:07, 22.23it/s]"
     ]
    },
    {
     "name": "stdout",
     "output_type": "stream",
     "text": [
      "step: 12600, loss: 1.7326565980911255\n"
     ]
    },
    {
     "name": "stderr",
     "output_type": "stream",
     "text": [
      "100%|█████████▉| 12705/12760 [09:25<00:02, 22.21it/s]"
     ]
    },
    {
     "name": "stdout",
     "output_type": "stream",
     "text": [
      "step: 12700, loss: 1.7633440494537354\n"
     ]
    },
    {
     "name": "stderr",
     "output_type": "stream",
     "text": [
      "100%|██████████| 12760/12760 [09:28<00:00, 22.46it/s]\n"
     ]
    }
   ],
   "source": [
    "\n",
    "torch.set_float32_matmul_precision(config.matmul_precision)\n",
    "optimizer = model.configure_optimizers(weight_decay=config.weight_decay, learning_rate=config.max_lr, beta1=config.beta_1, beta2=config.beta_2, device_type=\"cuda\")\n",
    "\n",
    "loss_accum = []\n",
    "train = train.to(torch.int64)\n",
    "def do_epoch():\n",
    "    batch_stride = config.batch_size\n",
    "    for current_step, batch_start_idx in enumerate(tqdm(range(0, train.shape[0]-batch_stride, batch_stride))):\n",
    "        batch = train[batch_start_idx:batch_start_idx+batch_stride]\n",
    "        inputs = batch[:, 0:config.block_size].contiguous()\n",
    "        targets = batch[:, 1:config.block_size+1].contiguous()\n",
    "        model(inputs, targets)\n",
    "        model.train()\n",
    "        optimizer.zero_grad()\n",
    "        with torch.autocast(dtype=torch.bfloat16, device_type=\"cuda\"):\n",
    "            logits, loss = model(inputs, targets)\n",
    "        loss_accum.append(loss.detach())\n",
    "        loss.backward()\n",
    "        optimizer.step()\n",
    "        if current_step % 100 ==0:\n",
    "            print(f\"step: {current_step}, loss: {loss.item()}\")\n",
    "\n",
    "do_epoch()\n",
    "\n",
    "\n",
    "# current_step = 0  # Initialize the current step counter\n",
    "\n",
    "# for inputs, targets in train_dataloader:\n",
    "#     model.train()\n",
    "#     optimizer.zero_grad()\n",
    "#     inputs, targets = inputs.to(device), targets.to(device)\n",
    "#     with torch.autocast(device_type=device_type, dtype=torch.bfloat16):\n",
    "#         logits, loss = model(inputs, targets)\n",
    "#     loss = loss\n",
    "#     loss_accum.append(loss.detach())\n",
    "#     loss.backward()\n",
    "#     norm = torch.nn.utils.clip_grad_norm_(model.parameters(), 1.0)\n",
    "#     optimizer.step()\n",
    "    \n",
    "#     current_step += 1\n",
    "#     if math.log2(step) % 1 == 0:\n",
    "#         print(f\"Step: {current_step}, Loss: {loss.item()}\")\n"
   ]
  },
  {
   "cell_type": "code",
   "execution_count": 36,
   "metadata": {},
   "outputs": [
    {
     "ename": "NameError",
     "evalue": "name 'reload' is not defined",
     "output_type": "error",
     "traceback": [
      "\u001b[0;31m---------------------------------------------------------------------------\u001b[0m",
      "\u001b[0;31mNameError\u001b[0m                                 Traceback (most recent call last)",
      "Cell \u001b[0;32mIn[36], line 2\u001b[0m\n\u001b[1;32m      1\u001b[0m \u001b[38;5;28;01mfrom\u001b[39;00m \u001b[38;5;21;01mmulti_tokenizer\u001b[39;00m \u001b[38;5;28;01mimport\u001b[39;00m partition_list_by_lang\n\u001b[0;32m----> 2\u001b[0m \u001b[43mreload\u001b[49m(multi_tokenizer)\n\u001b[1;32m      3\u001b[0m \u001b[38;5;28mlist\u001b[39m(partition_list_by_lang([\u001b[38;5;241m0\u001b[39m,\u001b[38;5;241m1\u001b[39m,\u001b[38;5;241m323\u001b[39m,\u001b[38;5;241m323\u001b[39m,\u001b[38;5;241m1\u001b[39m,\u001b[38;5;241m0\u001b[39m,\u001b[38;5;241m3232\u001b[39m,\u001b[38;5;241m2\u001b[39m]))\n",
      "\u001b[0;31mNameError\u001b[0m: name 'reload' is not defined"
     ]
    }
   ],
   "source": []
  }
 ],
 "metadata": {
  "kernelspec": {
   "display_name": "Python 3",
   "language": "python",
   "name": "python3"
  },
  "language_info": {
   "codemirror_mode": {
    "name": "ipython",
    "version": 3
   },
   "file_extension": ".py",
   "mimetype": "text/x-python",
   "name": "python",
   "nbconvert_exporter": "python",
   "pygments_lexer": "ipython3",
   "version": "3.10.12"
  }
 },
 "nbformat": 4,
 "nbformat_minor": 2
}
