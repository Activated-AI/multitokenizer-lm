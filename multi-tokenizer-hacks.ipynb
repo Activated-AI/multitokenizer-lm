{
 "cells": [
  {
   "cell_type": "code",
   "execution_count": 2,
   "metadata": {},
   "outputs": [],
   "source": [
    "import tokenizers\n",
    "import multiprocessing\n",
    "import torch\n",
    "english_tokenizer  = tokenizers.Tokenizer.from_file(\"expt_1/multi_8k/english_tokenizer.json\")\n"
   ]
  },
  {
   "cell_type": "code",
   "execution_count": 7,
   "metadata": {},
   "outputs": [
    {
     "name": "stdout",
     "output_type": "stream",
     "text": [
      "1000\n",
      "-rw-rw-rw- 1 root root 6.9M Sep 20 00:08 /workspace/multitokenizer-lm/expt_1/multi_8k/translation_test.pt\n"
     ]
    }
   ],
   "source": [
    "with multiprocessing.Pool(8) as pool:\n",
    "    x = pool.map(english_tokenizer.encode, [\"I am a\"] * 1000)\n",
    "print(len(x))\n",
    "\n",
    "# t = torch.load('')\n",
    "!ls -l -h /workspace/multitokenizer-lm/expt_1/multi_8k/translation_test.pt"
   ]
  },
  {
   "cell_type": "code",
   "execution_count": 8,
   "metadata": {},
   "outputs": [
    {
     "name": "stdout",
     "output_type": "stream",
     "text": [
      "[0, 1, 2, 3, 4, 5, 6, 7, 8, 9, 0, 1, 2]\n"
     ]
    }
   ],
   "source": [
    "def f():\n",
    "    yield from range(10)\n",
    "    yield from range(3)\n",
    "\n",
    "l = list(f())\n",
    "print(l)"
   ]
  }
 ],
 "metadata": {
  "kernelspec": {
   "display_name": "Python 3",
   "language": "python",
   "name": "python3"
  },
  "language_info": {
   "codemirror_mode": {
    "name": "ipython",
    "version": 3
   },
   "file_extension": ".py",
   "mimetype": "text/x-python",
   "name": "python",
   "nbconvert_exporter": "python",
   "pygments_lexer": "ipython3",
   "version": "3.10.12"
  }
 },
 "nbformat": 4,
 "nbformat_minor": 2
}
